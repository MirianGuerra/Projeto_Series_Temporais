{
 "cells": [
  {
   "cell_type": "markdown",
   "metadata": {},
   "source": [
    "# Séries Temporais\n",
    "> Seguindo o Livro: \"Time Series Analysis with Python - Cookbook\"  \n",
    "> Autor: Tarek A. Atwan  \n",
    "> Editora: Packt  "
   ]
  },
  {
   "cell_type": "markdown",
   "metadata": {},
   "source": [
    "### Prefacio\n",
    "\n",
    "> Código: https://github.com/PacktPublishing/Time-Series-Analysis-with-Python-Cookbook  \n",
    "> Videos: https://www.youtube.com/watch?v=RlW70yuY_E4&list=PLeLcvrwLe186TznSbF0RC3RhUzZqHoXw_  \n",
    "> Imagens: https: // static.packt-cdn.com/downloads/9781801075541_ColorImages.pdf (Falhando)  \n"
   ]
  },
  {
   "cell_type": "markdown",
   "metadata": {},
   "source": [
    "## Cap.1:  Getting Started with Time Series Analysis\n",
    "\n",
    "> Objetivos:  \n",
    "- Setup de desenvolvimento;  \n",
    "- Instalar as bibliotecas de Python;  \n",
    "- Intalando JupyterLab e suas extensões;  \n",
    "\n",
    "> Requisitos Técnicos:  \n",
    "- VSCode  \n"
   ]
  },
  {
   "cell_type": "markdown",
   "metadata": {},
   "source": [
    "### 1.1 Criando as envs."
   ]
  },
  {
   "cell_type": "code",
   "execution_count": null,
   "metadata": {},
   "outputs": [],
   "source": [
    "#Criando a venv\n",
    "!python -m venv py3_serie_temporal\n",
    "\n",
    "#Ativando a venv no Windowns\n",
    "!./py3_serie_temporal/Scripts/activate\n",
    " \n",
    " #Intalando as bibliotecas\n",
    "!python3.11.exe -m pip intall -r requirements.txt\n",
    "\n",
    "#Criar o requirements.txt com o venv:\n",
    "!pip freeze > requirements.txt\n"
   ]
  },
  {
   "cell_type": "markdown",
   "metadata": {},
   "source": [
    "## Cap 2: Lendo dados de séries temporais\n",
    "\n",
    "> Objetivos:  \n",
    "- Ler dados de CSV  \n",
    "- LEr dados de arquivos Excel  \n",
    "- Ler dados de URL  \n",
    "- Ler dados de um dataser SAS.  \n",
    "\n",
    ">Datasets:  \n",
    "https://github.com/PacktPublishing/Time-Series-Analysis-with-Python-Cookbook/tree/main/datasets/Ch2"
   ]
  },
  {
   "cell_type": "code",
   "execution_count": 6,
   "metadata": {},
   "outputs": [],
   "source": [
    "import pandas as pd\n",
    "from pathlib import Path\n"
   ]
  },
  {
   "cell_type": "code",
   "execution_count": 3,
   "metadata": {},
   "outputs": [
    {
     "name": "stderr",
     "output_type": "stream",
     "text": [
      "C:\\Users\\miria\\AppData\\Local\\Temp\\ipykernel_31372\\1967946489.py:6: FutureWarning: The argument 'infer_datetime_format' is deprecated and will be removed in a future version. A strict version of it is now the default, see https://pandas.pydata.org/pdeps/0004-consistent-to-datetime-parsing.html. You can safely remove this argument.\n",
      "  ts = pd.read_csv(path_arquivo, header = 0,\n",
      "C:\\Users\\miria\\AppData\\Local\\Temp\\ipykernel_31372\\1967946489.py:6: UserWarning: Could not infer format, so each element will be parsed individually, falling back to `dateutil`. To ensure parsing is consistent and as-expected, please specify a format.\n",
      "  ts = pd.read_csv(path_arquivo, header = 0,\n"
     ]
    },
    {
     "data": {
      "text/html": [
       "<div>\n",
       "<style scoped>\n",
       "    .dataframe tbody tr th:only-of-type {\n",
       "        vertical-align: middle;\n",
       "    }\n",
       "\n",
       "    .dataframe tbody tr th {\n",
       "        vertical-align: top;\n",
       "    }\n",
       "\n",
       "    .dataframe thead th {\n",
       "        text-align: right;\n",
       "    }\n",
       "</style>\n",
       "<table border=\"1\" class=\"dataframe\">\n",
       "  <thead>\n",
       "    <tr style=\"text-align: right;\">\n",
       "      <th></th>\n",
       "      <th>DOW</th>\n",
       "      <th>Daily</th>\n",
       "      <th>Forecast</th>\n",
       "      <th>Percent Diff</th>\n",
       "    </tr>\n",
       "    <tr>\n",
       "      <th>Date</th>\n",
       "      <th></th>\n",
       "      <th></th>\n",
       "      <th></th>\n",
       "      <th></th>\n",
       "    </tr>\n",
       "  </thead>\n",
       "  <tbody>\n",
       "    <tr>\n",
       "      <th>2021-04-26</th>\n",
       "      <td>Friday</td>\n",
       "      <td>$125,789.89</td>\n",
       "      <td>$235,036.46</td>\n",
       "      <td>-46.48%</td>\n",
       "    </tr>\n",
       "    <tr>\n",
       "      <th>2021-04-27</th>\n",
       "      <td>Saturday</td>\n",
       "      <td>$99,374.01</td>\n",
       "      <td>$197,622.55</td>\n",
       "      <td>-49.72%</td>\n",
       "    </tr>\n",
       "    <tr>\n",
       "      <th>2021-04-28</th>\n",
       "      <td>Sunday</td>\n",
       "      <td>$82,203.16</td>\n",
       "      <td>$116,991.26</td>\n",
       "      <td>-29.74%</td>\n",
       "    </tr>\n",
       "    <tr>\n",
       "      <th>2021-04-29</th>\n",
       "      <td>Monday</td>\n",
       "      <td>$33,530.26</td>\n",
       "      <td>$66,652.65</td>\n",
       "      <td>-49.69%</td>\n",
       "    </tr>\n",
       "    <tr>\n",
       "      <th>2021-04-30</th>\n",
       "      <td>Tuesday</td>\n",
       "      <td>$30,105.24</td>\n",
       "      <td>$34,828.19</td>\n",
       "      <td>-13.56%</td>\n",
       "    </tr>\n",
       "    <tr>\n",
       "      <th>...</th>\n",
       "      <td>...</td>\n",
       "      <td>...</td>\n",
       "      <td>...</td>\n",
       "      <td>...</td>\n",
       "    </tr>\n",
       "    <tr>\n",
       "      <th>2021-08-27</th>\n",
       "      <td>Tuesday</td>\n",
       "      <td>$0.00</td>\n",
       "      <td>$0.01</td>\n",
       "      <td>-45.07%</td>\n",
       "    </tr>\n",
       "    <tr>\n",
       "      <th>2021-08-28</th>\n",
       "      <td>Wednesday</td>\n",
       "      <td>$0.00</td>\n",
       "      <td>$0.00</td>\n",
       "      <td>-32.94%</td>\n",
       "    </tr>\n",
       "    <tr>\n",
       "      <th>2021-08-29</th>\n",
       "      <td>Thursday</td>\n",
       "      <td>$0.00</td>\n",
       "      <td>$0.00</td>\n",
       "      <td>-38.06%</td>\n",
       "    </tr>\n",
       "    <tr>\n",
       "      <th>2021-08-30</th>\n",
       "      <td>Friday</td>\n",
       "      <td>$0.00</td>\n",
       "      <td>$0.00</td>\n",
       "      <td>-24.58%</td>\n",
       "    </tr>\n",
       "    <tr>\n",
       "      <th>2021-08-31</th>\n",
       "      <td>Saturday</td>\n",
       "      <td>$0.00</td>\n",
       "      <td>$0.00</td>\n",
       "      <td>-49.77%</td>\n",
       "    </tr>\n",
       "  </tbody>\n",
       "</table>\n",
       "<p>128 rows × 4 columns</p>\n",
       "</div>"
      ],
      "text/plain": [
       "                  DOW         Daily      Forecast Percent Diff\n",
       "Date                                                          \n",
       "2021-04-26     Friday  $125,789.89   $235,036.46       -46.48%\n",
       "2021-04-27   Saturday   $99,374.01   $197,622.55       -49.72%\n",
       "2021-04-28     Sunday   $82,203.16   $116,991.26       -29.74%\n",
       "2021-04-29     Monday   $33,530.26    $66,652.65       -49.69%\n",
       "2021-04-30    Tuesday   $30,105.24    $34,828.19       -13.56%\n",
       "...               ...           ...           ...          ...\n",
       "2021-08-27    Tuesday        $0.00         $0.01       -45.07%\n",
       "2021-08-28  Wednesday        $0.00         $0.00       -32.94%\n",
       "2021-08-29   Thursday        $0.00         $0.00       -38.06%\n",
       "2021-08-30     Friday        $0.00         $0.00       -24.58%\n",
       "2021-08-31   Saturday        $0.00         $0.00       -49.77%\n",
       "\n",
       "[128 rows x 4 columns]"
      ]
     },
     "execution_count": 3,
     "metadata": {},
     "output_type": "execute_result"
    }
   ],
   "source": [
    "#Lendo dados de um arquivo CSV\n",
    "\n",
    "path_arquivo = Path('Datasets/Cap2/movieboxoffice.csv')\n",
    "\n",
    "ts = pd.read_csv(path_arquivo, header = 0, \n",
    "                 parse_dates=['Date'], #Informa qual coluna tem informação de data\n",
    "                 index_col=0, \n",
    "                 infer_datetime_format=True,\n",
    "                 usecols=['Date', 'DOW', 'Daily', 'Forecast', 'Percent Diff'])\n",
    "ts"
   ]
  },
  {
   "cell_type": "code",
   "execution_count": 4,
   "metadata": {},
   "outputs": [
    {
     "name": "stdout",
     "output_type": "stream",
     "text": [
      "<class 'pandas.core.frame.DataFrame'>\n",
      "DatetimeIndex: 128 entries, 2021-04-26 to 2021-08-31\n",
      "Data columns (total 4 columns):\n",
      " #   Column        Non-Null Count  Dtype \n",
      "---  ------        --------------  ----- \n",
      " 0   DOW           128 non-null    object\n",
      " 1   Daily         128 non-null    object\n",
      " 2   Forecast      128 non-null    object\n",
      " 3   Percent Diff  128 non-null    object\n",
      "dtypes: object(4)\n",
      "memory usage: 5.0+ KB\n"
     ]
    }
   ],
   "source": [
    "ts.info()"
   ]
  },
  {
   "cell_type": "code",
   "execution_count": 5,
   "metadata": {},
   "outputs": [
    {
     "data": {
      "text/html": [
       "<div>\n",
       "<style scoped>\n",
       "    .dataframe tbody tr th:only-of-type {\n",
       "        vertical-align: middle;\n",
       "    }\n",
       "\n",
       "    .dataframe tbody tr th {\n",
       "        vertical-align: top;\n",
       "    }\n",
       "\n",
       "    .dataframe thead th {\n",
       "        text-align: right;\n",
       "    }\n",
       "</style>\n",
       "<table border=\"1\" class=\"dataframe\">\n",
       "  <thead>\n",
       "    <tr style=\"text-align: right;\">\n",
       "      <th></th>\n",
       "      <th>DOW</th>\n",
       "      <th>Daily</th>\n",
       "      <th>Forecast</th>\n",
       "      <th>Percent Diff</th>\n",
       "    </tr>\n",
       "    <tr>\n",
       "      <th>Date</th>\n",
       "      <th></th>\n",
       "      <th></th>\n",
       "      <th></th>\n",
       "      <th></th>\n",
       "    </tr>\n",
       "  </thead>\n",
       "  <tbody>\n",
       "    <tr>\n",
       "      <th>2021-04-26</th>\n",
       "      <td>Friday</td>\n",
       "      <td>12578989.0</td>\n",
       "      <td>23503646.0</td>\n",
       "      <td>-46.48%</td>\n",
       "    </tr>\n",
       "    <tr>\n",
       "      <th>2021-04-27</th>\n",
       "      <td>Saturday</td>\n",
       "      <td>9937401.0</td>\n",
       "      <td>19762255.0</td>\n",
       "      <td>-49.72%</td>\n",
       "    </tr>\n",
       "    <tr>\n",
       "      <th>2021-04-28</th>\n",
       "      <td>Sunday</td>\n",
       "      <td>8220316.0</td>\n",
       "      <td>11699126.0</td>\n",
       "      <td>-29.74%</td>\n",
       "    </tr>\n",
       "    <tr>\n",
       "      <th>2021-04-29</th>\n",
       "      <td>Monday</td>\n",
       "      <td>3353026.0</td>\n",
       "      <td>6665265.0</td>\n",
       "      <td>-49.69%</td>\n",
       "    </tr>\n",
       "    <tr>\n",
       "      <th>2021-04-30</th>\n",
       "      <td>Tuesday</td>\n",
       "      <td>3010524.0</td>\n",
       "      <td>3482819.0</td>\n",
       "      <td>-13.56%</td>\n",
       "    </tr>\n",
       "    <tr>\n",
       "      <th>...</th>\n",
       "      <td>...</td>\n",
       "      <td>...</td>\n",
       "      <td>...</td>\n",
       "      <td>...</td>\n",
       "    </tr>\n",
       "    <tr>\n",
       "      <th>2021-08-27</th>\n",
       "      <td>Tuesday</td>\n",
       "      <td>0.0</td>\n",
       "      <td>1.0</td>\n",
       "      <td>-45.07%</td>\n",
       "    </tr>\n",
       "    <tr>\n",
       "      <th>2021-08-28</th>\n",
       "      <td>Wednesday</td>\n",
       "      <td>0.0</td>\n",
       "      <td>0.0</td>\n",
       "      <td>-32.94%</td>\n",
       "    </tr>\n",
       "    <tr>\n",
       "      <th>2021-08-29</th>\n",
       "      <td>Thursday</td>\n",
       "      <td>0.0</td>\n",
       "      <td>0.0</td>\n",
       "      <td>-38.06%</td>\n",
       "    </tr>\n",
       "    <tr>\n",
       "      <th>2021-08-30</th>\n",
       "      <td>Friday</td>\n",
       "      <td>0.0</td>\n",
       "      <td>0.0</td>\n",
       "      <td>-24.58%</td>\n",
       "    </tr>\n",
       "    <tr>\n",
       "      <th>2021-08-31</th>\n",
       "      <td>Saturday</td>\n",
       "      <td>0.0</td>\n",
       "      <td>0.0</td>\n",
       "      <td>-49.77%</td>\n",
       "    </tr>\n",
       "  </tbody>\n",
       "</table>\n",
       "<p>128 rows × 4 columns</p>\n",
       "</div>"
      ],
      "text/plain": [
       "                  DOW       Daily    Forecast Percent Diff\n",
       "Date                                                      \n",
       "2021-04-26     Friday  12578989.0  23503646.0      -46.48%\n",
       "2021-04-27   Saturday   9937401.0  19762255.0      -49.72%\n",
       "2021-04-28     Sunday   8220316.0  11699126.0      -29.74%\n",
       "2021-04-29     Monday   3353026.0   6665265.0      -49.69%\n",
       "2021-04-30    Tuesday   3010524.0   3482819.0      -13.56%\n",
       "...               ...         ...         ...          ...\n",
       "2021-08-27    Tuesday         0.0         1.0      -45.07%\n",
       "2021-08-28  Wednesday         0.0         0.0      -32.94%\n",
       "2021-08-29   Thursday         0.0         0.0      -38.06%\n",
       "2021-08-30     Friday         0.0         0.0      -24.58%\n",
       "2021-08-31   Saturday         0.0         0.0      -49.77%\n",
       "\n",
       "[128 rows x 4 columns]"
      ]
     },
     "execution_count": 5,
     "metadata": {},
     "output_type": "execute_result"
    }
   ],
   "source": [
    "def clean(x): return x.str.replace('[^\\d]','',regex=True)\n",
    "c_df = ts[['Daily','Forecast']].apply(clean, axis =1)\n",
    "ts[['Daily', 'Forecast']] = c_df.astype(float)\n",
    "ts"
   ]
  },
  {
   "cell_type": "code",
   "execution_count": 12,
   "metadata": {},
   "outputs": [
    {
     "data": {
      "text/plain": [
       "['2017', '2018']"
      ]
     },
     "execution_count": 12,
     "metadata": {},
     "output_type": "execute_result"
    }
   ],
   "source": [
    "#Lendo de um arquivo Excel\n",
    "# Para ler excel será necessário ter um biblioteca adicional, que pode ser xlrd ou openpyxl\n",
    "# xlrd: somente arquivos .xls\n",
    "#openpyxl: .xls e .xlsx\n",
    "\n",
    "path = Path('Datasets/Cap2/sales_trx_data.xlsx')\n",
    "\n",
    "#Para ver as sheets dentro do arquivo excel fazemos:\n",
    "excel_file = pd.ExcelFile(path)\n",
    "excel_file.sheet_names"
   ]
  },
  {
   "cell_type": "code",
   "execution_count": 13,
   "metadata": {},
   "outputs": [
    {
     "data": {
      "text/plain": [
       "dict_keys([0, 1])"
      ]
     },
     "execution_count": 13,
     "metadata": {},
     "output_type": "execute_result"
    }
   ],
   "source": [
    "#Vou ler as duas sheets\n",
    "ts = pd.read_excel(path, \n",
    "                   engine='openpyxl',\n",
    "                   index_col=1,\n",
    "                   sheet_name=[0,1],\n",
    "                   parse_dates=True)\n",
    "\n",
    "ts.keys()"
   ]
  },
  {
   "cell_type": "code",
   "execution_count": 14,
   "metadata": {},
   "outputs": [
    {
     "data": {
      "text/plain": [
       "{0:             Line_Item_ID  Credit_Card_Number  Quantity  \\\n",
       " Date                                                     \n",
       " 2017-01-01             1    7437926611570790         1   \n",
       " 2017-01-01             2    7437926611570790         1   \n",
       " 2017-01-01             3    8421920068932810         3   \n",
       " 2017-01-01             4    8421920068932810         3   \n",
       " 2017-01-01             5    4787310681569640         1   \n",
       " ...                  ...                 ...       ...   \n",
       " 2017-12-31         36760    3149176814183170         4   \n",
       " 2017-12-31         36761    2005206728506200         1   \n",
       " 2017-12-31         36762    2005206728506200         1   \n",
       " 2017-12-31         36763    1130414909788170         2   \n",
       " 2017-12-31         36764    1130414909788170         2   \n",
       " \n",
       "                                                  Menu_Item  \n",
       " Date                                                        \n",
       " 2017-01-01                                spicy miso ramen  \n",
       " 2017-01-01                                spicy miso ramen  \n",
       " 2017-01-01                               tori paitan ramen  \n",
       " 2017-01-01                               tori paitan ramen  \n",
       " 2017-01-01                            truffle butter ramen  \n",
       " ...                                                    ...  \n",
       " 2017-12-31  vegetarian curry + king trumpet mushroom ramen  \n",
       " 2017-12-31                                  tonkotsu ramen  \n",
       " 2017-12-31                                  tonkotsu ramen  \n",
       " 2017-12-31                      soft-shell miso crab ramen  \n",
       " 2017-12-31                      soft-shell miso crab ramen  \n",
       " \n",
       " [36764 rows x 4 columns],\n",
       " 1:             Line_Item_ID  Credit_Card_Number  Quantity  \\\n",
       " Date                                                     \n",
       " 2018-01-01         36765    4178504356986060         1   \n",
       " 2018-01-01         36766    4178504356986060         1   \n",
       " 2018-01-01         36767    9385429783634070         2   \n",
       " 2018-01-01         36768    9385429783634070         2   \n",
       " 2018-01-01         36769    2528867357453560         1   \n",
       " ...                  ...                 ...       ...   \n",
       " 2018-12-31         74120    1697055332228940         4   \n",
       " 2018-12-31         74121    6800009643487100         1   \n",
       " 2018-12-31         74122    6800009643487100         1   \n",
       " 2018-12-31         74123    5981057609583650         2   \n",
       " 2018-12-31         74124    5981057609583650         2   \n",
       " \n",
       "                               Menu_Item  \n",
       " Date                                     \n",
       " 2018-01-01  burnt garlic tonkotsu ramen  \n",
       " 2018-01-01  burnt garlic tonkotsu ramen  \n",
       " 2018-01-01        vegetarian spicy miso  \n",
       " 2018-01-01        vegetarian spicy miso  \n",
       " 2018-01-01            tori paitan ramen  \n",
       " ...                                 ...  \n",
       " 2018-12-31               tonkotsu ramen  \n",
       " 2018-12-31        vegetarian spicy miso  \n",
       " 2018-12-31        vegetarian spicy miso  \n",
       " 2018-12-31             spicy miso ramen  \n",
       " 2018-12-31             spicy miso ramen  \n",
       " \n",
       " [37360 rows x 4 columns]}"
      ]
     },
     "execution_count": 14,
     "metadata": {},
     "output_type": "execute_result"
    }
   ],
   "source": [
    "ts"
   ]
  },
  {
   "cell_type": "code",
   "execution_count": null,
   "metadata": {},
   "outputs": [],
   "source": []
  }
 ],
 "metadata": {
  "kernelspec": {
   "display_name": "py3_serie_temporal",
   "language": "python",
   "name": "python3"
  },
  "language_info": {
   "codemirror_mode": {
    "name": "ipython",
    "version": 3
   },
   "file_extension": ".py",
   "mimetype": "text/x-python",
   "name": "python",
   "nbconvert_exporter": "python",
   "pygments_lexer": "ipython3",
   "version": "3.11.6"
  }
 },
 "nbformat": 4,
 "nbformat_minor": 2
}
